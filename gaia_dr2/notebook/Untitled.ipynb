{
 "cells": [
  {
   "cell_type": "code",
   "execution_count": 1,
   "id": "76df0c36",
   "metadata": {
    "ExecuteTime": {
     "end_time": "2022-06-23T03:23:04.696275Z",
     "start_time": "2022-06-23T03:23:03.214356Z"
    }
   },
   "outputs": [],
   "source": [
    "from astropy.io import fits\n",
    "import numpy as np\n",
    "import pandas as pd\n",
    "from matplotlib import pyplot as plt\n",
    "import aplpy\n",
    "from astropy import units as u\n",
    "from astropy.wcs import WCS\n",
    "from astropy.coordinates import SkyCoord\n",
    "from astroquery.gaia import Gaia\n",
    "import pandas as pd\n",
    "pd.set_option('display.max_columns', 100)\n",
    "import seaborn as sns\n",
    "sns.set(font=\"times\",font_scale=1.3,style=\"ticks\")\n",
    "import matplotlib as mpl\n",
    "mpl.rc('text', usetex=True)\n",
    "from zero_point import zpt\n",
    "zpt.load_tables()\n",
    "%matplotlib inline\n",
    "%config InlineBackend.figure_formats = {'png', 'retina'}\n",
    "def Ks2R(Ks):\n",
    "    # Mann+2015, < 4500K\n",
    "    a = 1.9515\n",
    "    b = -0.3520\n",
    "    c = 0.01680\n",
    "    R = a + b*Ks + c*Ks**2\n",
    "    return R\n",
    "def BC_K(Teff):\n",
    "    # Bolometric correction for K-band\n",
    "    # https://arxiv.org/pdf/astro-ph/0601049.pdf\n",
    "    slope=(0.385-1.305)/2000\n",
    "    BC = slope*(Teff-6000) + 1.305\n",
    "    return BC"
   ]
  },
  {
   "cell_type": "code",
   "execution_count": null,
   "id": "9a60cc2f",
   "metadata": {},
   "outputs": [],
   "source": []
  }
 ],
 "metadata": {
  "kernelspec": {
   "display_name": "Python 3",
   "language": "python",
   "name": "python3"
  },
  "language_info": {
   "codemirror_mode": {
    "name": "ipython",
    "version": 3
   },
   "file_extension": ".py",
   "mimetype": "text/x-python",
   "name": "python",
   "nbconvert_exporter": "python",
   "pygments_lexer": "ipython3",
   "version": "3.9.5"
  }
 },
 "nbformat": 4,
 "nbformat_minor": 5
}
