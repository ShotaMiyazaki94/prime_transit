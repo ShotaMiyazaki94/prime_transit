{
 "cells": [
  {
   "cell_type": "code",
   "execution_count": 5,
   "id": "e6a52363",
   "metadata": {
    "ExecuteTime": {
     "end_time": "2022-06-22T12:46:52.382985Z",
     "start_time": "2022-06-22T12:46:52.359334Z"
    }
   },
   "outputs": [],
   "source": [
    "from astropy.io import fits\n",
    "import numpy as np\n",
    "import pandas as pd\n",
    "from matplotlib import pyplot as plt\n",
    "import aplpy\n",
    "from astropy import units as u\n",
    "from astropy.wcs import WCS\n",
    "from astropy.coordinates import SkyCoord\n",
    "from astroquery.gaia import Gaia\n",
    "import pandas as pd\n",
    "pd.set_option('display.max_columns', 100)\n",
    "import seaborn as sns\n",
    "sns.set(font=\"times\",font_scale=1.7,style=\"ticks\")\n",
    "import matplotlib as mpl\n",
    "mpl.rc('text', usetex=True)\n",
    "import codecs\n",
    "%matplotlib inline\n",
    "%config InlineBackend.figure_formats = {'png', 'retina'}"
   ]
  },
  {
   "cell_type": "code",
   "execution_count": 6,
   "id": "ee75b38b",
   "metadata": {
    "ExecuteTime": {
     "end_time": "2022-06-22T12:46:52.716587Z",
     "start_time": "2022-06-22T12:46:52.707883Z"
    }
   },
   "outputs": [],
   "source": [
    "catalog = pd.read_csv(\"../files/cluster_search.csv\")\n",
    "ra,dec,name = catalog[\"_RA.icrs\"],catalog[\"_DE.icrs\"],catalog[\"Cluster\"]"
   ]
  },
  {
   "cell_type": "code",
   "execution_count": 7,
   "id": "54b66665",
   "metadata": {
    "ExecuteTime": {
     "end_time": "2022-06-22T12:46:53.380755Z",
     "start_time": "2022-06-22T12:46:53.377167Z"
    }
   },
   "outputs": [],
   "source": [
    "#Que_1 = '\"https://gea.esac.esa.int/tap-server/tap/sync?REQUEST=doQuery&LANG=ADQL&FORMAT=csv&QUERY'\\\n",
    "#+'=SELECT+gaia.source_id,gaia.ra,gaia.dec,gaia.l,gaia.b,gaia.bp_rp,gaia.parallax,gaia.parallax_error,gaia.parallax_over_error,'\\\n",
    "#+'gaia.phot_g_mean_flux,gaia.phot_g_mean_flux_error,gaia.phot_g_mean_mag,gaia.phot_bp_rp_excess_factor,gaia.radial_velocity,gaia.radial_velocity_error,'\\\n",
    "#+'xmatch.original_ext_source_id,tmass.j_m,tmass.h_m,tmass.ks_m'\\\n",
    "#+'+FROM+gaiadr3.gaia_source+AS+gaia+INNER+JOIN+gaiadr3.tmass_psc_xsc_neighbourhood+AS+xmatch+ON+gaia.source_id=xmatch.source_id'\\\n",
    "#+'+INNER+JOIN+gaiadr1.tmass_original_valid+AS+tmass+ON+tmass.designation=xmatch.original_ext_source_id+WHERE+'\n",
    "\n",
    "Que_1 = '\"https://gea.esac.esa.int/tap-server/tap/sync?REQUEST=doQuery&LANG=ADQL&FORMAT=csv&QUERY='\\\n",
    "+'SELECT+gaia.source_id,gaia.ra,gaia.dec,gaia.l,gaia.b,gaia.phot_g_mean_mag,gaia.bp_rp,gaia.parallax,gaia.parallax_error'\\\n",
    "+',gaia.priam_flags,gaia.flame_flags,gaia.a_g_val,gaia.e_bp_min_rp_val,gaia.teff_val,gaia.radius_val,gaia.radius_percentile_lower,gaia.radius_percentile_upper,'\\\n",
    "+'xmatch.original_ext_source_id,tmass.j_m,tmass.h_m,tmass.ks_m+FROM+gaiadr2.gaia_source+AS+gaia+'\\\n",
    "+'INNER+JOIN+gaiadr2.tmass_best_neighbour+AS+xmatch+ON+gaia.source_id=xmatch.source_id+'\\\n",
    "+'INNER+JOIN+gaiadr1.tmass_original_valid+AS+tmass+ON+tmass.designation=xmatch.original_ext_source_id+WHERE+'"
   ]
  },
  {
   "cell_type": "code",
   "execution_count": 8,
   "id": "6eb9f188",
   "metadata": {
    "ExecuteTime": {
     "end_time": "2022-06-22T12:46:54.037426Z",
     "start_time": "2022-06-22T12:46:54.029878Z"
    }
   },
   "outputs": [],
   "source": [
    "FOV_RA = 1.206 # deg\n",
    "FOV_DE = 1.206 # deg\n",
    "Hmag_lower = 16\n",
    "sh_file = codecs.open(\"./download.sh\",mode=\"w\")\n",
    "\n",
    "for N,R,D in zip(name,ra,dec):\n",
    "    N = N.replace(\" \",\"\")\n",
    "    ra_upper = \"%.3f\"%(R+0.5*FOV_RA)\n",
    "    ra_lower = \"%.3f\"%(R-0.5*FOV_RA)\n",
    "    dec_upper = \"%.3f\"%(D+0.5*FOV_DE)\n",
    "    dec_lower = \"%.3f\"%(D-0.5*FOV_DE)\n",
    "    RA_limit   = ra_lower+\"<gaia.ra+AND+gaia.ra<\"+ra_upper\n",
    "    DE_limit   = dec_lower+\"<gaia.dec+AND+gaia.dec<\"+dec_upper\n",
    "    Hmag_limit = \"tmass.h_m<%.2f\"%Hmag_lower \n",
    "    WHERE = \"(\"+RA_limit+\"+AND+\"+DE_limit+\"+AND+\"+Hmag_limit+')\"'\n",
    "    Que=\"curl -o ../query/%s.csv \"%(N)+Que_1+WHERE\n",
    "    print(Que,file=sh_file)"
   ]
  },
  {
   "cell_type": "code",
   "execution_count": null,
   "id": "8edaaac2",
   "metadata": {},
   "outputs": [],
   "source": []
  }
 ],
 "metadata": {
  "kernelspec": {
   "display_name": "Python 3",
   "language": "python",
   "name": "python3"
  },
  "language_info": {
   "codemirror_mode": {
    "name": "ipython",
    "version": 3
   },
   "file_extension": ".py",
   "mimetype": "text/x-python",
   "name": "python",
   "nbconvert_exporter": "python",
   "pygments_lexer": "ipython3",
   "version": "3.9.5"
  }
 },
 "nbformat": 4,
 "nbformat_minor": 5
}
